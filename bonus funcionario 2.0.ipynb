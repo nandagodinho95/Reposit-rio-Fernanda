{
 "cells": [
  {
   "cell_type": "code",
   "execution_count": 4,
   "id": "609af2c0",
   "metadata": {},
   "outputs": [
    {
     "name": "stdout",
     "output_type": "stream",
     "text": [
      "Qual seu nome? Joaquina\n",
      "Qual o salario fixo? 1000\n",
      "Qual o valor em vendas 1000\n",
      "Bonus do Joaquina é de 100.0, novo salario é de 1100.0\n"
     ]
    }
   ],
   "source": [
    "funcionario1 = input(str('Qual seu nome? '))\n",
    "meta = int(1000)\n",
    "salariofixo = int(input('Qual o salario fixo? '))\n",
    "vendas = int(input('Qual o valor em vendas '))\n",
    "\n",
    "if vendas >= meta*2:\n",
    "    bonus = 0.15*vendas\n",
    "    print(f'Bonus do {funcionario1} é de {bonus}, novo salario é de {salariofixo+bonus}')\n",
    "elif vendas < meta*2 and vendas >= meta:\n",
    "    bonus = 0.10*vendas\n",
    "    print(f'Bonus do {funcionario1} é de {bonus}, novo salario é de {salariofixo+bonus}')\n",
    "else:\n",
    "    print('{funcionario1} voce não recebeu bonus')"
   ]
  },
  {
   "cell_type": "code",
   "execution_count": null,
   "id": "3f865689",
   "metadata": {},
   "outputs": [],
   "source": []
  }
 ],
 "metadata": {
  "kernelspec": {
   "display_name": "Python 3 (ipykernel)",
   "language": "python",
   "name": "python3"
  },
  "language_info": {
   "codemirror_mode": {
    "name": "ipython",
    "version": 3
   },
   "file_extension": ".py",
   "mimetype": "text/x-python",
   "name": "python",
   "nbconvert_exporter": "python",
   "pygments_lexer": "ipython3",
   "version": "3.9.7"
  }
 },
 "nbformat": 4,
 "nbformat_minor": 5
}
