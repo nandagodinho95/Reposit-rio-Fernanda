{
 "cells": [
  {
   "cell_type": "code",
   "execution_count": 1,
   "id": "09786f85",
   "metadata": {},
   "outputs": [
    {
     "name": "stdout",
     "output_type": "stream",
     "text": [
      "Qual seu nome? Ana\n",
      "Escreva uma frase prefiro morrer do que perder a vida\n",
      "Ana prefiro morrer do que perder a vida\n"
     ]
    }
   ],
   "source": [
    "nome = input('Qual seu nome? ')\n",
    "frase = input('Escreva uma frase ')\n",
    "\n",
    "print(nome, frase)"
   ]
  }
 ],
 "metadata": {
  "kernelspec": {
   "display_name": "Python 3 (ipykernel)",
   "language": "python",
   "name": "python3"
  },
  "language_info": {
   "codemirror_mode": {
    "name": "ipython",
    "version": 3
   },
   "file_extension": ".py",
   "mimetype": "text/x-python",
   "name": "python",
   "nbconvert_exporter": "python",
   "pygments_lexer": "ipython3",
   "version": "3.9.7"
  }
 },
 "nbformat": 4,
 "nbformat_minor": 5
}
