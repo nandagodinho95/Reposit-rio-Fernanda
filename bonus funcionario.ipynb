{
 "cells": [
  {
   "cell_type": "code",
   "execution_count": 3,
   "id": "a8ac086b",
   "metadata": {},
   "outputs": [
    {
     "name": "stdout",
     "output_type": "stream",
     "text": [
      "Qual o valor de vendas?1500\n",
      "Qual o valor de vendas?800\n",
      "Qual o valor de vendas?1000\n",
      "Bonus do funcionario1 é de 150.0\n",
      "Funcionario não ganhou bonus\n",
      "Bonus do funcionario3 é de 100.0\n"
     ]
    }
   ],
   "source": [
    "funcionario1 = int(input('Qual o valor de vendas?'))\n",
    "funcionario2 = int(input('Qual o valor de vendas?'))\n",
    "funcionario3 = int(input('Qual o valor de vendas?'))\n",
    "meta = 1000\n",
    "\n",
    "if funcionario1 >= meta:\n",
    "    bonus = 0.10*funcionario1\n",
    "    print('Bonus do funcionario1 é de ' + str(bonus))\n",
    "else:\n",
    "    print('Funcionario1 não ganhou bonus')\n",
    "    \n",
    "if funcionario2 >= meta:\n",
    "    bonus = 0.10*funcionario2\n",
    "    print('Bonus do funcionario2 é de ' + str(bonus))\n",
    "else:\n",
    "    print('Funcionario não ganhou bonus')\n",
    "    \n",
    "if funcionario3 >= meta:\n",
    "    bonus = 0.10*funcionario3\n",
    "    print('Bonus do funcionario3 é de ' + str(bonus))\n",
    "else:\n",
    "    print('Funcionario3 não ganhou bonus')"
   ]
  }
 ],
 "metadata": {
  "kernelspec": {
   "display_name": "Python 3 (ipykernel)",
   "language": "python",
   "name": "python3"
  },
  "language_info": {
   "codemirror_mode": {
    "name": "ipython",
    "version": 3
   },
   "file_extension": ".py",
   "mimetype": "text/x-python",
   "name": "python",
   "nbconvert_exporter": "python",
   "pygments_lexer": "ipython3",
   "version": "3.9.7"
  }
 },
 "nbformat": 4,
 "nbformat_minor": 5
}
