{
 "cells": [
  {
   "cell_type": "code",
   "execution_count": 8,
   "id": "7f350b5a",
   "metadata": {},
   "outputs": [
    {
     "name": "stdout",
     "output_type": "stream",
     "text": [
      "Qual a quantidade de coca?150\n",
      "Qual a quantidade de pepsi?130\n",
      "O fatoramento total é de 420.0\n",
      "O lucro da loja é de -2080.0\n",
      "A margem da loja é de -4.95\n"
     ]
    }
   ],
   "source": [
    "qtde_coca = int(input('Qual a quantidade de coca?'))\n",
    "qtde_pepsi = int(input('Qual a quantidade de pepsi?'))\n",
    "vendas_coca = float(1.50)\n",
    "vendas_pepsi = float(1.50)\n",
    "custodaloja = float(2500)\n",
    "faturamento = qtde_coca*vendas_coca + qtde_pepsi*vendas_pepsi\n",
    "print('O fatoramento total é de {}'.format(faturamento))\n",
    "\n",
    "lucro = faturamento - custodaloja\n",
    "print('O lucro da loja é de {}'.format(lucro))\n",
    "\n",
    "margem = lucro / faturamento\n",
    "print('A margem da loja é de {:.2f}'.format(margem))"
   ]
  }
 ],
 "metadata": {
  "kernelspec": {
   "display_name": "Python 3 (ipykernel)",
   "language": "python",
   "name": "python3"
  },
  "language_info": {
   "codemirror_mode": {
    "name": "ipython",
    "version": 3
   },
   "file_extension": ".py",
   "mimetype": "text/x-python",
   "name": "python",
   "nbconvert_exporter": "python",
   "pygments_lexer": "ipython3",
   "version": "3.9.7"
  }
 },
 "nbformat": 4,
 "nbformat_minor": 5
}
