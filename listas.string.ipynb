{
 "cells": [
  {
   "cell_type": "code",
   "execution_count": 3,
   "id": "fb8a06d8",
   "metadata": {},
   "outputs": [
    {
     "name": "stdout",
     "output_type": "stream",
     "text": [
      "[1, 2, 3, 4, 5, 6, 7, 8, 9]\n"
     ]
    }
   ],
   "source": [
    "lista1 = [1, 2, 3]\n",
    "lista2 = [4, 5, 6]\n",
    "lista3 = [7, 8, 9]\n",
    "\n",
    "listao = lista1 + lista2 + lista3\n",
    "print(listao)"
   ]
  },
  {
   "cell_type": "code",
   "execution_count": 12,
   "id": "8ad4eb5c",
   "metadata": {},
   "outputs": [
    {
     "name": "stdout",
     "output_type": "stream",
     "text": [
      "3\n"
     ]
    }
   ],
   "source": [
    "frutas = ['pera', 'uva', 'maca', 'banana']\n",
    "\n",
    "print(frutas.index('banana'))"
   ]
  },
  {
   "cell_type": "code",
   "execution_count": 15,
   "id": "18fe493b",
   "metadata": {},
   "outputs": [
    {
     "name": "stdout",
     "output_type": "stream",
     "text": [
      "Insira seu nome Katchusia\n",
      "Insira seu servidor gmail.com\n",
      "Katchusia@gmail.com\n"
     ]
    }
   ],
   "source": [
    "nome = input('Insira seu nome ')\n",
    "servidor = input('Insira seu servidor ')\n",
    "\n",
    "print(nome + '@' + servidor)"
   ]
  },
  {
   "cell_type": "code",
   "execution_count": 20,
   "id": "08ec7e08",
   "metadata": {},
   "outputs": [
    {
     "name": "stdout",
     "output_type": "stream",
     "text": [
      "Insira qualquer coisa: Água\n",
      "É numerico? False\n",
      "É alfa? True\n",
      "É alfanumerico? True\n"
     ]
    }
   ],
   "source": [
    "programa = input('Insira qualquer coisa: ')\n",
    "\n",
    "t = programa.isnumeric()\n",
    "h = programa.isalpha()\n",
    "v = programa.isalnum()\n",
    "print(f'É numerico? {t}\\nÉ alfa? {h}\\nÉ alfanumerico? {v}')"
   ]
  }
 ],
 "metadata": {
  "kernelspec": {
   "display_name": "Python 3 (ipykernel)",
   "language": "python",
   "name": "python3"
  },
  "language_info": {
   "codemirror_mode": {
    "name": "ipython",
    "version": 3
   },
   "file_extension": ".py",
   "mimetype": "text/x-python",
   "name": "python",
   "nbconvert_exporter": "python",
   "pygments_lexer": "ipython3",
   "version": "3.9.7"
  }
 },
 "nbformat": 4,
 "nbformat_minor": 5
}
